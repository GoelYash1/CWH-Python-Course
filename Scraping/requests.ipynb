{
 "cells": [
  {
   "cell_type": "markdown",
   "id": "c9bdfa43-4429-470c-8e01-53e194940756",
   "metadata": {},
   "source": [
    "# Using `requests` Module for Data Collection\n",
    "\n",
    "Today we will see how to scrape websites and use the `requests` module to download the raw HTML of a webpage.  \n",
    "In this section, we can safely use the following sites for scraping demos:\n",
    "\n",
    "- https://quotes.toscrape.com/  \n",
    "- https://books.toscrape.com/\n",
    "\n",
    "---\n",
    "\n",
    "## 1. What is `requests`?\n",
    "\n",
    "- `requests` is a Python library used to send HTTP requests easily.  \n",
    "- It allows you to fetch the content of a webpage programmatically.  \n",
    "- It is commonly used as the first step before parsing HTML with BeautifulSoup.\n",
    "\n",
    "---\n",
    "\n",
    "## 2. Installing `requests`\n",
    "\n",
    "To install `requests`, run:\n",
    "\n",
    "```bash\n",
    "pip install requests\n",
    "```\n",
    "\n",
    "---\n",
    "\n",
    "## 3. Sending a Basic GET Request\n",
    "\n",
    "**Example:**\n",
    "\n",
    "```python\n",
    "import requests\n",
    " \n",
    "url = \"https://example.com\"\n",
    "response = requests.get(url)\n",
    " \n",
    "# Print the HTML content\n",
    "print(response.text)\n",
    "```\n",
    "\n",
    "**Key Points:**\n",
    "- `url`: The website you want to fetch.  \n",
    "- `response.text`: The HTML content of the page as a string.\n",
    "\n",
    "---\n",
    "\n",
    "## 4. Checking the Response Status\n",
    "\n",
    "Always check if the request was successful:\n",
    "\n",
    "```python\n",
    "print(response.status_code)\n",
    "```\n",
    "\n",
    "**Common Status Codes:**\n",
    "- 200: OK (Success)  \n",
    "- 404: Not Found  \n",
    "- 403: Forbidden  \n",
    "- 500: Internal Server Error  \n",
    "\n",
    "**Good practice:**\n",
    "\n",
    "```python\n",
    "if response.status_code == 200:\n",
    "    print(\"Page fetched successfully!\")\n",
    "else:\n",
    "    print(\"Failed to fetch the page.\")\n",
    "```\n",
    "\n",
    "---\n",
    "\n",
    "## 5. Important Response Properties\n",
    "\n",
    "| Property | Description |\n",
    "|-----------|-------------|\n",
    "| `response.text` | HTML content as Unicode text |\n",
    "| `response.content` | Raw bytes of the response |\n",
    "| `response.status_code` | HTTP status code |\n",
    "| `response.headers` | Metadata like content-type, server info |\n",
    "\n",
    "---\n",
    "\n",
    "## 6. Adding Headers to Mimic a Browser\n",
    "\n",
    "Sometimes websites block automated requests.  \n",
    "Adding a User-Agent header helps the request look like it is coming from a real browser.\n",
    "\n",
    "```python\n",
    "headers = {\n",
    "    \"User-Agent\": \"Mozilla/5.0 (Windows NT 10.0; Win64; x64)\"\n",
    "}\n",
    " \n",
    "response = requests.get(url, headers=headers)\n",
    "```\n",
    "\n",
    "---\n",
    "\n",
    "## 7. Handling Connection Errors\n",
    "\n",
    "Wrap your request in a try-except block to handle errors gracefully:\n",
    "\n",
    "```python\n",
    "try:\n",
    "    response = requests.get(url, timeout=5)\n",
    "    response.raise_for_status()  # Raises an HTTPError for bad responses\n",
    "    print(response.text)\n",
    "except requests.exceptions.RequestException as e:\n",
    "    print(f\"An error occurred: {e}\")\n",
    "```\n",
    "\n",
    "---\n",
    "\n",
    "## 8. Best Practices for Fetching Pages\n",
    "\n",
    "- Always check the HTTP status code.  \n",
    "- Use proper headers to mimic a browser.  \n",
    "- Set a timeout to avoid hanging indefinitely.  \n",
    "- Respect the website by not making too many rapid requests.  \n",
    "\n",
    "---\n",
    "\n",
    "## 9. Summary\n",
    "\n",
    "- `requests` makes it simple to fetch web pages using Python.  \n",
    "- It is the starting point for most web scraping workflows.  \n",
    "- Combining `requests` with BeautifulSoup allows for powerful data extraction.\n"
   ]
  },
  {
   "cell_type": "code",
   "execution_count": 1,
   "id": "b5c6b118-8fd8-453b-978e-53ddad45b25e",
   "metadata": {
    "execution": {
     "iopub.execute_input": "2025-10-11T02:52:22.258476Z",
     "iopub.status.busy": "2025-10-11T02:52:22.258033Z",
     "iopub.status.idle": "2025-10-11T02:52:22.630464Z",
     "shell.execute_reply": "2025-10-11T02:52:22.629445Z"
    }
   },
   "outputs": [],
   "source": [
    "import requests"
   ]
  },
  {
   "cell_type": "code",
   "execution_count": 2,
   "id": "d0e45eba-febb-4b6d-a4de-3bd82ce9f8cf",
   "metadata": {
    "execution": {
     "iopub.execute_input": "2025-10-11T02:52:22.635231Z",
     "iopub.status.busy": "2025-10-11T02:52:22.634683Z",
     "iopub.status.idle": "2025-10-11T02:52:22.638654Z",
     "shell.execute_reply": "2025-10-11T02:52:22.637974Z"
    }
   },
   "outputs": [],
   "source": [
    "url = \"https://books.toscrape.com/\""
   ]
  },
  {
   "cell_type": "code",
   "execution_count": 3,
   "id": "038ddec6-c7c5-4e16-81ee-3fefda9dfc06",
   "metadata": {
    "execution": {
     "iopub.execute_input": "2025-10-11T02:52:22.641298Z",
     "iopub.status.busy": "2025-10-11T02:52:22.641052Z",
     "iopub.status.idle": "2025-10-11T02:52:24.070931Z",
     "shell.execute_reply": "2025-10-11T02:52:24.070094Z"
    }
   },
   "outputs": [],
   "source": [
    "response = requests.get(url)"
   ]
  },
  {
   "cell_type": "code",
   "execution_count": 4,
   "id": "65920b01-9f53-4b14-81cb-da7f0e8021e6",
   "metadata": {
    "execution": {
     "iopub.execute_input": "2025-10-11T02:52:24.074664Z",
     "iopub.status.busy": "2025-10-11T02:52:24.074147Z",
     "iopub.status.idle": "2025-10-11T02:53:34.058579Z",
     "shell.execute_reply": "2025-10-11T02:53:34.057823Z"
    }
   },
   "outputs": [
    {
     "name": "stdout",
     "output_type": "stream",
     "text": [
      "Downloaded page 1 succesfully\n"
     ]
    },
    {
     "name": "stdout",
     "output_type": "stream",
     "text": [
      "Downloaded page 2 succesfully\n"
     ]
    },
    {
     "name": "stdout",
     "output_type": "stream",
     "text": [
      "Downloaded page 3 succesfully\n"
     ]
    },
    {
     "name": "stdout",
     "output_type": "stream",
     "text": [
      "Downloaded page 4 succesfully\n"
     ]
    },
    {
     "name": "stdout",
     "output_type": "stream",
     "text": [
      "Downloaded page 5 succesfully\n"
     ]
    },
    {
     "name": "stdout",
     "output_type": "stream",
     "text": [
      "Downloaded page 6 succesfully\n"
     ]
    },
    {
     "name": "stdout",
     "output_type": "stream",
     "text": [
      "Downloaded page 7 succesfully\n"
     ]
    },
    {
     "name": "stdout",
     "output_type": "stream",
     "text": [
      "Downloaded page 8 succesfully\n"
     ]
    },
    {
     "name": "stdout",
     "output_type": "stream",
     "text": [
      "Downloaded page 9 succesfully\n"
     ]
    },
    {
     "name": "stdout",
     "output_type": "stream",
     "text": [
      "Downloaded page 10 succesfully\n"
     ]
    },
    {
     "name": "stdout",
     "output_type": "stream",
     "text": [
      "Downloaded page 11 succesfully\n"
     ]
    },
    {
     "name": "stdout",
     "output_type": "stream",
     "text": [
      "Downloaded page 12 succesfully\n"
     ]
    },
    {
     "name": "stdout",
     "output_type": "stream",
     "text": [
      "Downloaded page 13 succesfully\n"
     ]
    },
    {
     "name": "stdout",
     "output_type": "stream",
     "text": [
      "Downloaded page 14 succesfully\n"
     ]
    },
    {
     "name": "stdout",
     "output_type": "stream",
     "text": [
      "Downloaded page 15 succesfully\n"
     ]
    },
    {
     "name": "stdout",
     "output_type": "stream",
     "text": [
      "Downloaded page 16 succesfully\n"
     ]
    },
    {
     "name": "stdout",
     "output_type": "stream",
     "text": [
      "Downloaded page 17 succesfully\n"
     ]
    },
    {
     "name": "stdout",
     "output_type": "stream",
     "text": [
      "Downloaded page 18 succesfully\n"
     ]
    },
    {
     "name": "stdout",
     "output_type": "stream",
     "text": [
      "Downloaded page 19 succesfully\n"
     ]
    },
    {
     "name": "stdout",
     "output_type": "stream",
     "text": [
      "Downloaded page 20 succesfully\n"
     ]
    },
    {
     "name": "stdout",
     "output_type": "stream",
     "text": [
      "Downloaded page 21 succesfully\n"
     ]
    },
    {
     "name": "stdout",
     "output_type": "stream",
     "text": [
      "Downloaded page 22 succesfully\n"
     ]
    },
    {
     "name": "stdout",
     "output_type": "stream",
     "text": [
      "Downloaded page 23 succesfully\n"
     ]
    },
    {
     "name": "stdout",
     "output_type": "stream",
     "text": [
      "Downloaded page 24 succesfully\n"
     ]
    },
    {
     "name": "stdout",
     "output_type": "stream",
     "text": [
      "Downloaded page 25 succesfully\n"
     ]
    },
    {
     "name": "stdout",
     "output_type": "stream",
     "text": [
      "Downloaded page 26 succesfully\n"
     ]
    },
    {
     "name": "stdout",
     "output_type": "stream",
     "text": [
      "Downloaded page 27 succesfully\n"
     ]
    },
    {
     "name": "stdout",
     "output_type": "stream",
     "text": [
      "Downloaded page 28 succesfully\n"
     ]
    },
    {
     "name": "stdout",
     "output_type": "stream",
     "text": [
      "Downloaded page 29 succesfully\n"
     ]
    },
    {
     "name": "stdout",
     "output_type": "stream",
     "text": [
      "Downloaded page 30 succesfully\n"
     ]
    },
    {
     "name": "stdout",
     "output_type": "stream",
     "text": [
      "Downloaded page 31 succesfully\n"
     ]
    },
    {
     "name": "stdout",
     "output_type": "stream",
     "text": [
      "Downloaded page 32 succesfully\n"
     ]
    },
    {
     "name": "stdout",
     "output_type": "stream",
     "text": [
      "Downloaded page 33 succesfully\n"
     ]
    },
    {
     "name": "stdout",
     "output_type": "stream",
     "text": [
      "Downloaded page 34 succesfully\n"
     ]
    },
    {
     "name": "stdout",
     "output_type": "stream",
     "text": [
      "Downloaded page 35 succesfully\n"
     ]
    },
    {
     "name": "stdout",
     "output_type": "stream",
     "text": [
      "Downloaded page 36 succesfully\n"
     ]
    },
    {
     "name": "stdout",
     "output_type": "stream",
     "text": [
      "Downloaded page 37 succesfully\n"
     ]
    },
    {
     "name": "stdout",
     "output_type": "stream",
     "text": [
      "Downloaded page 38 succesfully\n"
     ]
    },
    {
     "name": "stdout",
     "output_type": "stream",
     "text": [
      "Downloaded page 39 succesfully\n"
     ]
    },
    {
     "name": "stdout",
     "output_type": "stream",
     "text": [
      "Downloaded page 40 succesfully\n"
     ]
    },
    {
     "name": "stdout",
     "output_type": "stream",
     "text": [
      "Downloaded page 41 succesfully\n"
     ]
    },
    {
     "name": "stdout",
     "output_type": "stream",
     "text": [
      "Downloaded page 42 succesfully\n"
     ]
    },
    {
     "name": "stdout",
     "output_type": "stream",
     "text": [
      "Downloaded page 43 succesfully\n"
     ]
    },
    {
     "name": "stdout",
     "output_type": "stream",
     "text": [
      "Downloaded page 44 succesfully\n"
     ]
    },
    {
     "name": "stdout",
     "output_type": "stream",
     "text": [
      "Downloaded page 45 succesfully\n"
     ]
    },
    {
     "name": "stdout",
     "output_type": "stream",
     "text": [
      "Downloaded page 46 succesfully\n"
     ]
    },
    {
     "name": "stdout",
     "output_type": "stream",
     "text": [
      "Downloaded page 47 succesfully\n"
     ]
    },
    {
     "name": "stdout",
     "output_type": "stream",
     "text": [
      "Downloaded page 48 succesfully\n"
     ]
    },
    {
     "name": "stdout",
     "output_type": "stream",
     "text": [
      "Downloaded page 49 succesfully\n"
     ]
    },
    {
     "name": "stdout",
     "output_type": "stream",
     "text": [
      "Downloaded page 50 succesfully\n"
     ]
    }
   ],
   "source": [
    "for i in range(1, 51):\n",
    "    new_response = requests.get(f\"https://books.toscrape.com/catalogue/page-{i}.html\")\n",
    "    with open(f\"htmls/page{i}.html\",\"w\", encoding = \"utf-8\") as f:\n",
    "        f.write(new_response.text)\n",
    "        print(f\"Downloaded page {i} succesfully\")"
   ]
  },
  {
   "cell_type": "code",
   "execution_count": 5,
   "id": "a8f5f215-84aa-411d-9d7d-59224301ab3a",
   "metadata": {
    "execution": {
     "iopub.execute_input": "2025-10-11T02:53:34.061682Z",
     "iopub.status.busy": "2025-10-11T02:53:34.061361Z",
     "iopub.status.idle": "2025-10-11T02:53:34.067101Z",
     "shell.execute_reply": "2025-10-11T02:53:34.065835Z"
    }
   },
   "outputs": [],
   "source": [
    "with open(\"requests_ran.flag\",\"w\") as f:\n",
    "    f.write(\"Request File ran successfully\")"
   ]
  }
 ],
 "metadata": {
  "kernelspec": {
   "display_name": "Python 3 (ipykernel)",
   "language": "python",
   "name": "python3"
  },
  "language_info": {
   "codemirror_mode": {
    "name": "ipython",
    "version": 3
   },
   "file_extension": ".py",
   "mimetype": "text/x-python",
   "name": "python",
   "nbconvert_exporter": "python",
   "pygments_lexer": "ipython3",
   "version": "3.13.5"
  }
 },
 "nbformat": 4,
 "nbformat_minor": 5
}
