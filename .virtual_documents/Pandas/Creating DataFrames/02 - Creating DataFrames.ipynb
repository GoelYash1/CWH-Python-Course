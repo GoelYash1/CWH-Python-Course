


import pandas as pd


data = [['harry', 34], ["Jill", 67],  ["Jacob", 67],  ["Shubham", 67]]


data


pd.DataFrame(data, columns=["Name", "Marks"])


data = {"a": [4, 6, 3], "b": [56, 34, 343]}


data


df = pd.DataFrame(data)


df


import numpy as np


arr = np.array([[1, 2], [5, 6]])


df = pd.DataFrame(arr, columns=["A", "B"])


df


df = pd.read_excel("data.xlsx") 


df


df = pd.read_csv("data.csv")


df


df = pd.read_json("data.json")


df


df = pd.read_csv("https://raw.githubusercontent.com/mwaskom/seaborn-data/master/tips.csv")


df


df.head()


df.tail()


df.info()


df.describe()


df.columns


df.shape
